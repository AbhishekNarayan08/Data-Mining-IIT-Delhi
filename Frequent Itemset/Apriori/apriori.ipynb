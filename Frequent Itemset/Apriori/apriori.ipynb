{
  "cells": [
    {
      "cell_type": "markdown",
      "metadata": {},
      "source": [
        "Took Help from Towards Data Science Articles and Software Help \n",
        "https://towardsdatascience.com/apriori-association-rule-mining-explanation-and-python-implementation-290b42afdfc6\n",
        "https://www.softwaretestinghelp.com/apriori-algorithm/"
      ]
    },
    {
      "cell_type": "code",
      "execution_count": 6,
      "metadata": {
        "colab": {
          "base_uri": "https://localhost:8080/"
        },
        "id": "0CKLtCJ2-YyO",
        "outputId": "5d6758fc-99f3-44a4-bbdd-d535ac6d8ac2"
      },
      "outputs": [
        {
          "name": "stdout",
          "output_type": "stream",
          "text": [
            "--2022-04-02 11:12:10--  http://fimi.ua.ac.be/data/retail.dat\n",
            "Resolving fimi.ua.ac.be (fimi.ua.ac.be)... 143.129.69.1\n",
            "Connecting to fimi.ua.ac.be (fimi.ua.ac.be)|143.129.69.1|:80... connected.\n",
            "HTTP request sent, awaiting response... 301 Moved Permanently\n",
            "Location: http://fimi.uantwerpen.be/data/retail.dat [following]\n",
            "--2022-04-02 11:12:11--  http://fimi.uantwerpen.be/data/retail.dat\n",
            "Resolving fimi.uantwerpen.be (fimi.uantwerpen.be)... 143.129.69.1\n",
            "Reusing existing connection to fimi.ua.ac.be:80.\n",
            "HTTP request sent, awaiting response... 200 OK\n",
            "Length: 4167490 (4.0M)\n",
            "Saving to: ‘retail.dat’\n",
            "\n",
            "retail.dat          100%[===================>]   3.97M  3.40MB/s    in 1.2s    \n",
            "\n",
            "2022-04-02 11:12:13 (3.40 MB/s) - ‘retail.dat’ saved [4167490/4167490]\n",
            "\n"
          ]
        }
      ],
      "source": [
        "!wget http://fimi.ua.ac.be/data/retail.dat"
      ]
    },
    {
      "cell_type": "code",
      "execution_count": 7,
      "metadata": {
        "id": "mm6RKqpn-Gx2"
      },
      "outputs": [],
      "source": [
        "import numpy as np\n",
        "from collections import defaultdict as dd"
      ]
    },
    {
      "cell_type": "code",
      "execution_count": 8,
      "metadata": {
        "id": "8iZLPhPJ-Gx5"
      },
      "outputs": [],
      "source": [
        "def find_candidate_sets(l,k):\n",
        "    candidate_sets=[]\n",
        "    for i in range(len(l)):\n",
        "        for j in range(i+1,len(l)):\n",
        "            u,v=list(l[i])[:k-2],list(l[j])[:k-2]\n",
        "            if sorted(u)==sorted(v):\n",
        "                candidate_sets.append(set(list(l[i])+list(l[j])))\n",
        "    return candidate_sets\n",
        "    pass\n"
      ]
    },
    {
      "cell_type": "code",
      "execution_count": 9,
      "metadata": {
        "id": "BDxlKWB4-Gx5"
      },
      "outputs": [],
      "source": [
        "transacts=[]\n",
        "cnt=dd(int)\n",
        "with open('retail.dat', 'r') as f:\n",
        "    temp=f.read().split('\\n')\n",
        "    transacts= [set(map(int, k.split())) for k in temp]\n",
        "for i in transacts:\n",
        "    for j in i:\n",
        "        cnt[j]+=1"
      ]
    },
    {
      "cell_type": "code",
      "execution_count": 10,
      "metadata": {
        "id": "JDp_q_R--Gx6"
      },
      "outputs": [],
      "source": [
        "\n",
        "def apriori(data, support=0.3, verbose=False):\n",
        "\n",
        "\n",
        "    transacts=[]\n",
        "    cnt=dd(int)\n",
        "    with open(data.strip(), 'r') as f:\n",
        "        temp=f.read().split('\\n')\n",
        "        transacts= [set(map(int, k.split())) for k in temp]\n",
        "    for i in transacts:\n",
        "        for j in i:\n",
        "            cnt[j]+=1\n",
        "\n",
        "    \n",
        "    freq_items=[]\n",
        "\n",
        "\n",
        "    # min_sup as per requirement\n",
        "    min_sup=support*len(transacts)\n",
        "\n",
        "    '''         \n",
        "    while l not empty\n",
        "        construct c k+1\n",
        "        check if c in ck+1 is k+1 frequent\n",
        "        put c in l k+1\n",
        "    '''\n",
        "    l=[]\n",
        "    for k in cnt.keys():\n",
        "        if cnt[k]>=min_sup:\n",
        "            l.append([k])\n",
        "    freq_items.append(l[:])\n",
        "\n",
        "    k=1\n",
        "    while len(l)>0:\n",
        "        k+=1\n",
        "        ck=find_candidate_sets(l,k)\n",
        "        l=check_c(ck)\n",
        "        freq_items.append(l[:])\n",
        "\n",
        "\n",
        "    \n",
        "    print('itemsets:')\n",
        "    for k in freq_items:\n",
        "        for i in k:\n",
        "            print(list(i))\n",
        "\n",
        "        \n"
      ]
    },
    {
      "cell_type": "code",
      "execution_count": 11,
      "metadata": {
        "id": "AdWnbWJH-Gx7"
      },
      "outputs": [],
      "source": [
        "def check_c(ck):\n",
        "    l=[]\n",
        "    for c in ck:\n",
        "        temporary=0\n",
        "        for tr in transacts:\n",
        "            if c.issubset(tr):\n",
        "                temporary+=1\n",
        "        if temporary>=min_sup:\n",
        "            l.append(c)\n",
        "    \n",
        "    return list(l)\n"
      ]
    },
    {
      "cell_type": "code",
      "execution_count": 12,
      "metadata": {
        "id": "f_aZ8jt8-Gx9"
      },
      "outputs": [],
      "source": [
        "min_sup = 0.2\n"
      ]
    },
    {
      "cell_type": "code",
      "execution_count": 13,
      "metadata": {
        "colab": {
          "base_uri": "https://localhost:8080/"
        },
        "id": "h8GdeOwT-Gx-",
        "outputId": "4b2670fc-1ccb-4832-9823-a6c7df3ff8f8"
      },
      "outputs": [
        {
          "name": "stdout",
          "output_type": "stream",
          "text": [
            "itemsets:\n",
            "[32]\n",
            "[38]\n",
            "[39]\n",
            "[41]\n",
            "[48]\n",
            "[65]\n",
            "[32, 38]\n",
            "[32, 39]\n",
            "[32, 41]\n",
            "[32, 48]\n",
            "[32, 65]\n",
            "[38, 39]\n",
            "[41, 38]\n",
            "[48, 38]\n",
            "[65, 38]\n",
            "[41, 39]\n",
            "[48, 39]\n",
            "[65, 39]\n",
            "[48, 41]\n",
            "[65, 41]\n",
            "[48, 65]\n",
            "[32, 38, 39]\n",
            "[32, 41, 38]\n",
            "[32, 48, 38]\n",
            "[32, 65, 38]\n",
            "[32, 41, 39]\n",
            "[32, 48, 39]\n",
            "[32, 65, 39]\n",
            "[32, 41, 48]\n",
            "[32, 41, 65]\n",
            "[32, 65, 48]\n",
            "[41, 38, 39]\n",
            "[48, 38, 39]\n",
            "[48, 41, 38]\n",
            "[48, 65, 38]\n",
            "[65, 38, 39]\n",
            "[65, 38, 41]\n",
            "[48, 41, 39]\n",
            "[48, 65, 39]\n",
            "[65, 41, 39]\n",
            "[48, 41, 65]\n",
            "[32, 41, 38, 39]\n",
            "[32, 41, 48, 38]\n",
            "[32, 41, 38, 65]\n",
            "[32, 48, 38, 39]\n",
            "[32, 65, 38, 39]\n",
            "[32, 65, 48, 38]\n",
            "[32, 41, 48, 39]\n",
            "[32, 41, 65, 39]\n",
            "[32, 65, 48, 39]\n",
            "[32, 41, 48, 65]\n",
            "[48, 41, 38, 39]\n",
            "[48, 41, 38, 65]\n",
            "[48, 65, 38, 39]\n",
            "[65, 41, 38, 39]\n",
            "[48, 41, 65, 39]\n",
            "[32, 65, 38, 39, 41]\n",
            "[32, 38, 39, 41, 48]\n",
            "[32, 65, 38, 41, 48]\n",
            "[32, 65, 38, 39, 48]\n",
            "[32, 65, 39, 41, 48]\n",
            "[65, 38, 39, 41, 48]\n",
            "[32, 65, 38, 39, 41, 48]\n"
          ]
        }
      ],
      "source": [
        "apriori('retail.dat', 0.05, True)"
      ]
    },
    {
      "cell_type": "code",
      "execution_count": null,
      "metadata": {
        "id": "EmtBPAw_-Gx_"
      },
      "outputs": [],
      "source": []
    }
  ],
  "metadata": {
    "colab": {
      "collapsed_sections": [],
      "name": "apriori.ipynb",
      "provenance": []
    },
    "interpreter": {
      "hash": "839ae3a29fbef0b5169aaec566c06e7377af7b20d9bdd50c8ebcf6f13863b33d"
    },
    "kernelspec": {
      "display_name": "Python 3 (ipykernel)",
      "language": "python",
      "name": "python3"
    },
    "language_info": {
      "codemirror_mode": {
        "name": "ipython",
        "version": 3
      },
      "file_extension": ".py",
      "mimetype": "text/x-python",
      "name": "python",
      "nbconvert_exporter": "python",
      "pygments_lexer": "ipython3",
      "version": "3.9.7"
    }
  },
  "nbformat": 4,
  "nbformat_minor": 0
}
