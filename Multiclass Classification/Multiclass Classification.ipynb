{
 "cells": [
  {
   "cell_type": "markdown",
   "id": "dbfbff16",
   "metadata": {},
   "source": [
    "# 1) What the data is about?\n",
    "\n",
    "Dataset taken is the Images of 13,611 grains of 7 different registered DRY BEANS with a high-resolution camera. A user-friendly interface was designed using the MATLAB graphical user interface (GUI). Bean images obtained by computer vision system (CVS) were subjected to segmentation and feature extraction stages, and a total of 16 features; 12 dimension and 4 shape forms, were obtained from the grains.\n",
    "\n",
    "Attribute information:-\n",
    "\n",
    "1. Area (A): The area of a bean zone and the number of pixels within its boundaries.\n",
    "2. Perimeter (P): Bean circumference is defined as the length of its border.\n",
    "3. Major axis length (L): The distance between the ends of the longest line that can be drawn from a bean.\n",
    "4. Minor axis length (l): The longest line that can be drawn from the bean while standing perpendicular to the main axis.\n",
    "5. Aspect ratio (K): Defines the relationship between L and l.\n",
    "6. Eccentricity (Ec): Eccentricity of the ellipse having the same moments as the region.\n",
    "7. Convex area (C): Number of pixels in the smallest convex polygon that can contain the area of a bean seed.\n",
    "8. Equivalent diameter (Ed): The diameter of a circle having the same area as a bean seed area.\n",
    "9. Extent (Ex): The ratio of the pixels in the bounding box to the bean area.\n",
    "10. Solidity (S): Also known as convexity. The ratio of the pixels in the convex shell to those found in beans.\n",
    "11. Roundness (R): Calculated with the following formula: (4piA)/(P^2)\n",
    "12. Compactness (CO): Measures the roundness of an object: Ed/L\n",
    "13. ShapeFactor1 (SF1)\n",
    "14. ShapeFactor2 (SF2)\n",
    "15. ShapeFactor3 (SF3)\n",
    "16. ShapeFactor4 (SF4)\n",
    "17. Class (Seker, Barbunya, Bombay, Cali, Dermosan, Horoz and Sira)"
   ]
  },
  {
   "cell_type": "markdown",
   "id": "546e74f7",
   "metadata": {},
   "source": [
    "# 2) What type of benefit you might hope to get from data mining?\n",
    "\n",
    "The primary objective is to provide a method for obtaining uniform seed varieties from the production which is in the form of population. It helps to determine the type of products that come to the market and will also provide the product parameters that will determine the price. Also, the parameters obtained in the study will constitute the data set that will enable the use of data mining and artificial intelligence methods."
   ]
  },
  {
   "cell_type": "markdown",
   "id": "8ff65407",
   "metadata": {},
   "source": [
    "# 3) Discuss data quality issues \n",
    "\n",
    "a) Are there problems with the data?\n",
    "\n",
    "No, Data is completely ready to fit into an algorithm. No such significant isssues like missing values, outliers etc lies within this dataset.'\n",
    "\n",
    "b) What might be an appropriate response to the quality issues?\n",
    "\n",
    "The dataset taken is completely fine and doesnot have quality issues.\n",
    "If in case exist,We can treat them as\n",
    "\n",
    "i)missing values- Simple Imputer can be used or simply imputing mean values for continous data and mode values fo categorical data \n",
    "\n",
    "ii)outliers- Removing the outlier datapoints\n",
    "\n",
    "iii)categorical attributes- One hot encoding will be the best solution\n",
    "\n",
    "iv)MultiCollinearity- Lasso regression for removing multicollinearity problems "
   ]
  },
  {
   "cell_type": "markdown",
   "id": "cd91b556",
   "metadata": {},
   "source": [
    "# Reading Data"
   ]
  },
  {
   "cell_type": "code",
   "execution_count": 1,
   "id": "fa865ea6",
   "metadata": {},
   "outputs": [],
   "source": [
    "import pandas as pd\n",
    "import numpy as np\n",
    "import seaborn as sns\n",
    "import matplotlib.pyplot as plt\n",
    "from random import randrange\n",
    "from sklearn.metrics import classification_report\n",
    "from sklearn.model_selection import RandomizedSearchCV\n",
    "from sklearn.metrics import accuracy_score\n",
    "%matplotlib inline\n",
    "import warnings\n",
    "warnings.filterwarnings('ignore')"
   ]
  },
  {
   "cell_type": "code",
   "execution_count": 2,
   "id": "dda3e52f",
   "metadata": {},
   "outputs": [],
   "source": [
    "df=pd.read_excel(\"Dry_Bean_Dataset.xlsx\",header=0)"
   ]
  },
  {
   "cell_type": "code",
   "execution_count": 3,
   "id": "ce7e05fd",
   "metadata": {},
   "outputs": [
    {
     "data": {
      "text/html": [
       "<div>\n",
       "<style scoped>\n",
       "    .dataframe tbody tr th:only-of-type {\n",
       "        vertical-align: middle;\n",
       "    }\n",
       "\n",
       "    .dataframe tbody tr th {\n",
       "        vertical-align: top;\n",
       "    }\n",
       "\n",
       "    .dataframe thead th {\n",
       "        text-align: right;\n",
       "    }\n",
       "</style>\n",
       "<table border=\"1\" class=\"dataframe\">\n",
       "  <thead>\n",
       "    <tr style=\"text-align: right;\">\n",
       "      <th></th>\n",
       "      <th>Area</th>\n",
       "      <th>Perimeter</th>\n",
       "      <th>MajorAxisLength</th>\n",
       "      <th>MinorAxisLength</th>\n",
       "      <th>AspectRation</th>\n",
       "      <th>Eccentricity</th>\n",
       "      <th>ConvexArea</th>\n",
       "      <th>EquivDiameter</th>\n",
       "      <th>Extent</th>\n",
       "      <th>Solidity</th>\n",
       "      <th>roundness</th>\n",
       "      <th>Compactness</th>\n",
       "      <th>ShapeFactor1</th>\n",
       "      <th>ShapeFactor2</th>\n",
       "      <th>ShapeFactor3</th>\n",
       "      <th>ShapeFactor4</th>\n",
       "      <th>Class</th>\n",
       "    </tr>\n",
       "  </thead>\n",
       "  <tbody>\n",
       "    <tr>\n",
       "      <th>0</th>\n",
       "      <td>28395</td>\n",
       "      <td>610.291</td>\n",
       "      <td>208.178117</td>\n",
       "      <td>173.888747</td>\n",
       "      <td>1.197191</td>\n",
       "      <td>0.549812</td>\n",
       "      <td>28715</td>\n",
       "      <td>190.141097</td>\n",
       "      <td>0.763923</td>\n",
       "      <td>0.988856</td>\n",
       "      <td>0.958027</td>\n",
       "      <td>0.913358</td>\n",
       "      <td>0.007332</td>\n",
       "      <td>0.003147</td>\n",
       "      <td>0.834222</td>\n",
       "      <td>0.998724</td>\n",
       "      <td>SEKER</td>\n",
       "    </tr>\n",
       "    <tr>\n",
       "      <th>1</th>\n",
       "      <td>28734</td>\n",
       "      <td>638.018</td>\n",
       "      <td>200.524796</td>\n",
       "      <td>182.734419</td>\n",
       "      <td>1.097356</td>\n",
       "      <td>0.411785</td>\n",
       "      <td>29172</td>\n",
       "      <td>191.272750</td>\n",
       "      <td>0.783968</td>\n",
       "      <td>0.984986</td>\n",
       "      <td>0.887034</td>\n",
       "      <td>0.953861</td>\n",
       "      <td>0.006979</td>\n",
       "      <td>0.003564</td>\n",
       "      <td>0.909851</td>\n",
       "      <td>0.998430</td>\n",
       "      <td>SEKER</td>\n",
       "    </tr>\n",
       "    <tr>\n",
       "      <th>2</th>\n",
       "      <td>29380</td>\n",
       "      <td>624.110</td>\n",
       "      <td>212.826130</td>\n",
       "      <td>175.931143</td>\n",
       "      <td>1.209713</td>\n",
       "      <td>0.562727</td>\n",
       "      <td>29690</td>\n",
       "      <td>193.410904</td>\n",
       "      <td>0.778113</td>\n",
       "      <td>0.989559</td>\n",
       "      <td>0.947849</td>\n",
       "      <td>0.908774</td>\n",
       "      <td>0.007244</td>\n",
       "      <td>0.003048</td>\n",
       "      <td>0.825871</td>\n",
       "      <td>0.999066</td>\n",
       "      <td>SEKER</td>\n",
       "    </tr>\n",
       "    <tr>\n",
       "      <th>3</th>\n",
       "      <td>30008</td>\n",
       "      <td>645.884</td>\n",
       "      <td>210.557999</td>\n",
       "      <td>182.516516</td>\n",
       "      <td>1.153638</td>\n",
       "      <td>0.498616</td>\n",
       "      <td>30724</td>\n",
       "      <td>195.467062</td>\n",
       "      <td>0.782681</td>\n",
       "      <td>0.976696</td>\n",
       "      <td>0.903936</td>\n",
       "      <td>0.928329</td>\n",
       "      <td>0.007017</td>\n",
       "      <td>0.003215</td>\n",
       "      <td>0.861794</td>\n",
       "      <td>0.994199</td>\n",
       "      <td>SEKER</td>\n",
       "    </tr>\n",
       "    <tr>\n",
       "      <th>4</th>\n",
       "      <td>30140</td>\n",
       "      <td>620.134</td>\n",
       "      <td>201.847882</td>\n",
       "      <td>190.279279</td>\n",
       "      <td>1.060798</td>\n",
       "      <td>0.333680</td>\n",
       "      <td>30417</td>\n",
       "      <td>195.896503</td>\n",
       "      <td>0.773098</td>\n",
       "      <td>0.990893</td>\n",
       "      <td>0.984877</td>\n",
       "      <td>0.970516</td>\n",
       "      <td>0.006697</td>\n",
       "      <td>0.003665</td>\n",
       "      <td>0.941900</td>\n",
       "      <td>0.999166</td>\n",
       "      <td>SEKER</td>\n",
       "    </tr>\n",
       "    <tr>\n",
       "      <th>...</th>\n",
       "      <td>...</td>\n",
       "      <td>...</td>\n",
       "      <td>...</td>\n",
       "      <td>...</td>\n",
       "      <td>...</td>\n",
       "      <td>...</td>\n",
       "      <td>...</td>\n",
       "      <td>...</td>\n",
       "      <td>...</td>\n",
       "      <td>...</td>\n",
       "      <td>...</td>\n",
       "      <td>...</td>\n",
       "      <td>...</td>\n",
       "      <td>...</td>\n",
       "      <td>...</td>\n",
       "      <td>...</td>\n",
       "      <td>...</td>\n",
       "    </tr>\n",
       "    <tr>\n",
       "      <th>13606</th>\n",
       "      <td>42097</td>\n",
       "      <td>759.696</td>\n",
       "      <td>288.721612</td>\n",
       "      <td>185.944705</td>\n",
       "      <td>1.552728</td>\n",
       "      <td>0.765002</td>\n",
       "      <td>42508</td>\n",
       "      <td>231.515799</td>\n",
       "      <td>0.714574</td>\n",
       "      <td>0.990331</td>\n",
       "      <td>0.916603</td>\n",
       "      <td>0.801865</td>\n",
       "      <td>0.006858</td>\n",
       "      <td>0.001749</td>\n",
       "      <td>0.642988</td>\n",
       "      <td>0.998385</td>\n",
       "      <td>DERMASON</td>\n",
       "    </tr>\n",
       "    <tr>\n",
       "      <th>13607</th>\n",
       "      <td>42101</td>\n",
       "      <td>757.499</td>\n",
       "      <td>281.576392</td>\n",
       "      <td>190.713136</td>\n",
       "      <td>1.476439</td>\n",
       "      <td>0.735702</td>\n",
       "      <td>42494</td>\n",
       "      <td>231.526798</td>\n",
       "      <td>0.799943</td>\n",
       "      <td>0.990752</td>\n",
       "      <td>0.922015</td>\n",
       "      <td>0.822252</td>\n",
       "      <td>0.006688</td>\n",
       "      <td>0.001886</td>\n",
       "      <td>0.676099</td>\n",
       "      <td>0.998219</td>\n",
       "      <td>DERMASON</td>\n",
       "    </tr>\n",
       "    <tr>\n",
       "      <th>13608</th>\n",
       "      <td>42139</td>\n",
       "      <td>759.321</td>\n",
       "      <td>281.539928</td>\n",
       "      <td>191.187979</td>\n",
       "      <td>1.472582</td>\n",
       "      <td>0.734065</td>\n",
       "      <td>42569</td>\n",
       "      <td>231.631261</td>\n",
       "      <td>0.729932</td>\n",
       "      <td>0.989899</td>\n",
       "      <td>0.918424</td>\n",
       "      <td>0.822730</td>\n",
       "      <td>0.006681</td>\n",
       "      <td>0.001888</td>\n",
       "      <td>0.676884</td>\n",
       "      <td>0.996767</td>\n",
       "      <td>DERMASON</td>\n",
       "    </tr>\n",
       "    <tr>\n",
       "      <th>13609</th>\n",
       "      <td>42147</td>\n",
       "      <td>763.779</td>\n",
       "      <td>283.382636</td>\n",
       "      <td>190.275731</td>\n",
       "      <td>1.489326</td>\n",
       "      <td>0.741055</td>\n",
       "      <td>42667</td>\n",
       "      <td>231.653248</td>\n",
       "      <td>0.705389</td>\n",
       "      <td>0.987813</td>\n",
       "      <td>0.907906</td>\n",
       "      <td>0.817457</td>\n",
       "      <td>0.006724</td>\n",
       "      <td>0.001852</td>\n",
       "      <td>0.668237</td>\n",
       "      <td>0.995222</td>\n",
       "      <td>DERMASON</td>\n",
       "    </tr>\n",
       "    <tr>\n",
       "      <th>13610</th>\n",
       "      <td>42159</td>\n",
       "      <td>772.237</td>\n",
       "      <td>295.142741</td>\n",
       "      <td>182.204716</td>\n",
       "      <td>1.619841</td>\n",
       "      <td>0.786693</td>\n",
       "      <td>42600</td>\n",
       "      <td>231.686223</td>\n",
       "      <td>0.788962</td>\n",
       "      <td>0.989648</td>\n",
       "      <td>0.888380</td>\n",
       "      <td>0.784997</td>\n",
       "      <td>0.007001</td>\n",
       "      <td>0.001640</td>\n",
       "      <td>0.616221</td>\n",
       "      <td>0.998180</td>\n",
       "      <td>DERMASON</td>\n",
       "    </tr>\n",
       "  </tbody>\n",
       "</table>\n",
       "<p>13611 rows × 17 columns</p>\n",
       "</div>"
      ],
      "text/plain": [
       "        Area  Perimeter  MajorAxisLength  MinorAxisLength  AspectRation  \\\n",
       "0      28395    610.291       208.178117       173.888747      1.197191   \n",
       "1      28734    638.018       200.524796       182.734419      1.097356   \n",
       "2      29380    624.110       212.826130       175.931143      1.209713   \n",
       "3      30008    645.884       210.557999       182.516516      1.153638   \n",
       "4      30140    620.134       201.847882       190.279279      1.060798   \n",
       "...      ...        ...              ...              ...           ...   \n",
       "13606  42097    759.696       288.721612       185.944705      1.552728   \n",
       "13607  42101    757.499       281.576392       190.713136      1.476439   \n",
       "13608  42139    759.321       281.539928       191.187979      1.472582   \n",
       "13609  42147    763.779       283.382636       190.275731      1.489326   \n",
       "13610  42159    772.237       295.142741       182.204716      1.619841   \n",
       "\n",
       "       Eccentricity  ConvexArea  EquivDiameter    Extent  Solidity  roundness  \\\n",
       "0          0.549812       28715     190.141097  0.763923  0.988856   0.958027   \n",
       "1          0.411785       29172     191.272750  0.783968  0.984986   0.887034   \n",
       "2          0.562727       29690     193.410904  0.778113  0.989559   0.947849   \n",
       "3          0.498616       30724     195.467062  0.782681  0.976696   0.903936   \n",
       "4          0.333680       30417     195.896503  0.773098  0.990893   0.984877   \n",
       "...             ...         ...            ...       ...       ...        ...   \n",
       "13606      0.765002       42508     231.515799  0.714574  0.990331   0.916603   \n",
       "13607      0.735702       42494     231.526798  0.799943  0.990752   0.922015   \n",
       "13608      0.734065       42569     231.631261  0.729932  0.989899   0.918424   \n",
       "13609      0.741055       42667     231.653248  0.705389  0.987813   0.907906   \n",
       "13610      0.786693       42600     231.686223  0.788962  0.989648   0.888380   \n",
       "\n",
       "       Compactness  ShapeFactor1  ShapeFactor2  ShapeFactor3  ShapeFactor4  \\\n",
       "0         0.913358      0.007332      0.003147      0.834222      0.998724   \n",
       "1         0.953861      0.006979      0.003564      0.909851      0.998430   \n",
       "2         0.908774      0.007244      0.003048      0.825871      0.999066   \n",
       "3         0.928329      0.007017      0.003215      0.861794      0.994199   \n",
       "4         0.970516      0.006697      0.003665      0.941900      0.999166   \n",
       "...            ...           ...           ...           ...           ...   \n",
       "13606     0.801865      0.006858      0.001749      0.642988      0.998385   \n",
       "13607     0.822252      0.006688      0.001886      0.676099      0.998219   \n",
       "13608     0.822730      0.006681      0.001888      0.676884      0.996767   \n",
       "13609     0.817457      0.006724      0.001852      0.668237      0.995222   \n",
       "13610     0.784997      0.007001      0.001640      0.616221      0.998180   \n",
       "\n",
       "          Class  \n",
       "0         SEKER  \n",
       "1         SEKER  \n",
       "2         SEKER  \n",
       "3         SEKER  \n",
       "4         SEKER  \n",
       "...         ...  \n",
       "13606  DERMASON  \n",
       "13607  DERMASON  \n",
       "13608  DERMASON  \n",
       "13609  DERMASON  \n",
       "13610  DERMASON  \n",
       "\n",
       "[13611 rows x 17 columns]"
      ]
     },
     "execution_count": 3,
     "metadata": {},
     "output_type": "execute_result"
    }
   ],
   "source": [
    "df"
   ]
  },
  {
   "cell_type": "code",
   "execution_count": 4,
   "id": "0cc3b3e7",
   "metadata": {},
   "outputs": [],
   "source": [
    "X=df.iloc[:,:-1]\n",
    "y=df.iloc[:,-1]"
   ]
  },
  {
   "cell_type": "markdown",
   "id": "f95d597f",
   "metadata": {},
   "source": [
    "# SCALING DATA"
   ]
  },
  {
   "cell_type": "code",
   "execution_count": 5,
   "id": "d409231a",
   "metadata": {},
   "outputs": [],
   "source": [
    "from sklearn.preprocessing import StandardScaler\n",
    "scaler = StandardScaler()\n",
    "X_scaled=scaler.fit_transform(X)"
   ]
  },
  {
   "cell_type": "code",
   "execution_count": 7,
   "id": "7f7b9481",
   "metadata": {},
   "outputs": [],
   "source": [
    "X_scaled = pd.DataFrame(X_scaled)"
   ]
  },
  {
   "cell_type": "code",
   "execution_count": 8,
   "id": "df2fed03",
   "metadata": {},
   "outputs": [],
   "source": [
    "df_scaled=pd.concat([X_scaled,y], axis=1)"
   ]
  },
  {
   "cell_type": "code",
   "execution_count": 9,
   "id": "a8f081d5",
   "metadata": {},
   "outputs": [
    {
     "data": {
      "text/html": [
       "<div>\n",
       "<style scoped>\n",
       "    .dataframe tbody tr th:only-of-type {\n",
       "        vertical-align: middle;\n",
       "    }\n",
       "\n",
       "    .dataframe tbody tr th {\n",
       "        vertical-align: top;\n",
       "    }\n",
       "\n",
       "    .dataframe thead th {\n",
       "        text-align: right;\n",
       "    }\n",
       "</style>\n",
       "<table border=\"1\" class=\"dataframe\">\n",
       "  <thead>\n",
       "    <tr style=\"text-align: right;\">\n",
       "      <th></th>\n",
       "      <th>0</th>\n",
       "      <th>1</th>\n",
       "      <th>2</th>\n",
       "      <th>3</th>\n",
       "      <th>4</th>\n",
       "      <th>5</th>\n",
       "      <th>6</th>\n",
       "      <th>7</th>\n",
       "      <th>8</th>\n",
       "      <th>9</th>\n",
       "      <th>10</th>\n",
       "      <th>11</th>\n",
       "      <th>12</th>\n",
       "      <th>13</th>\n",
       "      <th>14</th>\n",
       "      <th>15</th>\n",
       "      <th>Class</th>\n",
       "    </tr>\n",
       "  </thead>\n",
       "  <tbody>\n",
       "    <tr>\n",
       "      <th>0</th>\n",
       "      <td>-0.840749</td>\n",
       "      <td>-1.143319</td>\n",
       "      <td>-1.306598</td>\n",
       "      <td>-0.631153</td>\n",
       "      <td>-1.565053</td>\n",
       "      <td>-2.185720</td>\n",
       "      <td>-0.841451</td>\n",
       "      <td>-1.063341</td>\n",
       "      <td>0.289087</td>\n",
       "      <td>0.367613</td>\n",
       "      <td>1.423867</td>\n",
       "      <td>1.839116</td>\n",
       "      <td>0.680786</td>\n",
       "      <td>2.402173</td>\n",
       "      <td>1.925723</td>\n",
       "      <td>0.838371</td>\n",
       "      <td>SEKER</td>\n",
       "    </tr>\n",
       "    <tr>\n",
       "      <th>1</th>\n",
       "      <td>-0.829188</td>\n",
       "      <td>-1.013924</td>\n",
       "      <td>-1.395911</td>\n",
       "      <td>-0.434445</td>\n",
       "      <td>-1.969784</td>\n",
       "      <td>-3.686040</td>\n",
       "      <td>-0.826102</td>\n",
       "      <td>-1.044217</td>\n",
       "      <td>0.697477</td>\n",
       "      <td>-0.462907</td>\n",
       "      <td>0.231054</td>\n",
       "      <td>2.495449</td>\n",
       "      <td>0.367967</td>\n",
       "      <td>3.100893</td>\n",
       "      <td>2.689702</td>\n",
       "      <td>0.771138</td>\n",
       "      <td>SEKER</td>\n",
       "    </tr>\n",
       "    <tr>\n",
       "      <th>2</th>\n",
       "      <td>-0.807157</td>\n",
       "      <td>-1.078829</td>\n",
       "      <td>-1.252357</td>\n",
       "      <td>-0.585735</td>\n",
       "      <td>-1.514291</td>\n",
       "      <td>-2.045336</td>\n",
       "      <td>-0.808704</td>\n",
       "      <td>-1.008084</td>\n",
       "      <td>0.578195</td>\n",
       "      <td>0.518417</td>\n",
       "      <td>1.252865</td>\n",
       "      <td>1.764843</td>\n",
       "      <td>0.603129</td>\n",
       "      <td>2.235091</td>\n",
       "      <td>1.841356</td>\n",
       "      <td>0.916755</td>\n",
       "      <td>SEKER</td>\n",
       "    </tr>\n",
       "    <tr>\n",
       "      <th>3</th>\n",
       "      <td>-0.785741</td>\n",
       "      <td>-0.977215</td>\n",
       "      <td>-1.278825</td>\n",
       "      <td>-0.439290</td>\n",
       "      <td>-1.741618</td>\n",
       "      <td>-2.742211</td>\n",
       "      <td>-0.773975</td>\n",
       "      <td>-0.973337</td>\n",
       "      <td>0.671260</td>\n",
       "      <td>-2.241767</td>\n",
       "      <td>0.515049</td>\n",
       "      <td>2.081715</td>\n",
       "      <td>0.401718</td>\n",
       "      <td>2.515075</td>\n",
       "      <td>2.204250</td>\n",
       "      <td>-0.197985</td>\n",
       "      <td>SEKER</td>\n",
       "    </tr>\n",
       "    <tr>\n",
       "      <th>4</th>\n",
       "      <td>-0.781239</td>\n",
       "      <td>-1.097384</td>\n",
       "      <td>-1.380471</td>\n",
       "      <td>-0.266663</td>\n",
       "      <td>-2.117993</td>\n",
       "      <td>-4.535028</td>\n",
       "      <td>-0.784286</td>\n",
       "      <td>-0.966080</td>\n",
       "      <td>0.476020</td>\n",
       "      <td>0.804772</td>\n",
       "      <td>1.874992</td>\n",
       "      <td>2.765330</td>\n",
       "      <td>0.118268</td>\n",
       "      <td>3.270983</td>\n",
       "      <td>3.013462</td>\n",
       "      <td>0.939640</td>\n",
       "      <td>SEKER</td>\n",
       "    </tr>\n",
       "    <tr>\n",
       "      <th>...</th>\n",
       "      <td>...</td>\n",
       "      <td>...</td>\n",
       "      <td>...</td>\n",
       "      <td>...</td>\n",
       "      <td>...</td>\n",
       "      <td>...</td>\n",
       "      <td>...</td>\n",
       "      <td>...</td>\n",
       "      <td>...</td>\n",
       "      <td>...</td>\n",
       "      <td>...</td>\n",
       "      <td>...</td>\n",
       "      <td>...</td>\n",
       "      <td>...</td>\n",
       "      <td>...</td>\n",
       "      <td>...</td>\n",
       "      <td>...</td>\n",
       "    </tr>\n",
       "    <tr>\n",
       "      <th>13606</th>\n",
       "      <td>-0.373471</td>\n",
       "      <td>-0.446083</td>\n",
       "      <td>-0.366669</td>\n",
       "      <td>-0.363055</td>\n",
       "      <td>-0.123703</td>\n",
       "      <td>0.153343</td>\n",
       "      <td>-0.378191</td>\n",
       "      <td>-0.364148</td>\n",
       "      <td>-0.716284</td>\n",
       "      <td>0.684173</td>\n",
       "      <td>0.727872</td>\n",
       "      <td>0.032433</td>\n",
       "      <td>0.261425</td>\n",
       "      <td>0.055630</td>\n",
       "      <td>-0.006086</td>\n",
       "      <td>0.760813</td>\n",
       "      <td>DERMASON</td>\n",
       "    </tr>\n",
       "    <tr>\n",
       "      <th>13607</th>\n",
       "      <td>-0.373334</td>\n",
       "      <td>-0.456336</td>\n",
       "      <td>-0.450053</td>\n",
       "      <td>-0.257015</td>\n",
       "      <td>-0.432979</td>\n",
       "      <td>-0.165141</td>\n",
       "      <td>-0.378662</td>\n",
       "      <td>-0.363962</td>\n",
       "      <td>1.022933</td>\n",
       "      <td>0.774384</td>\n",
       "      <td>0.818807</td>\n",
       "      <td>0.362794</td>\n",
       "      <td>0.110384</td>\n",
       "      <td>0.285117</td>\n",
       "      <td>0.328393</td>\n",
       "      <td>0.722659</td>\n",
       "      <td>DERMASON</td>\n",
       "    </tr>\n",
       "    <tr>\n",
       "      <th>13608</th>\n",
       "      <td>-0.372038</td>\n",
       "      <td>-0.447833</td>\n",
       "      <td>-0.450478</td>\n",
       "      <td>-0.246456</td>\n",
       "      <td>-0.448618</td>\n",
       "      <td>-0.182940</td>\n",
       "      <td>-0.376143</td>\n",
       "      <td>-0.362197</td>\n",
       "      <td>-0.403392</td>\n",
       "      <td>0.591370</td>\n",
       "      <td>0.758468</td>\n",
       "      <td>0.370533</td>\n",
       "      <td>0.104269</td>\n",
       "      <td>0.289204</td>\n",
       "      <td>0.336328</td>\n",
       "      <td>0.390251</td>\n",
       "      <td>DERMASON</td>\n",
       "    </tr>\n",
       "    <tr>\n",
       "      <th>13609</th>\n",
       "      <td>-0.371765</td>\n",
       "      <td>-0.427029</td>\n",
       "      <td>-0.428974</td>\n",
       "      <td>-0.266742</td>\n",
       "      <td>-0.380735</td>\n",
       "      <td>-0.106960</td>\n",
       "      <td>-0.372851</td>\n",
       "      <td>-0.361825</td>\n",
       "      <td>-0.903414</td>\n",
       "      <td>0.143717</td>\n",
       "      <td>0.581753</td>\n",
       "      <td>0.285098</td>\n",
       "      <td>0.141906</td>\n",
       "      <td>0.228375</td>\n",
       "      <td>0.248973</td>\n",
       "      <td>0.036440</td>\n",
       "      <td>DERMASON</td>\n",
       "    </tr>\n",
       "    <tr>\n",
       "      <th>13610</th>\n",
       "      <td>-0.371356</td>\n",
       "      <td>-0.387557</td>\n",
       "      <td>-0.291736</td>\n",
       "      <td>-0.446224</td>\n",
       "      <td>0.148374</td>\n",
       "      <td>0.389116</td>\n",
       "      <td>-0.375101</td>\n",
       "      <td>-0.361268</td>\n",
       "      <td>0.799227</td>\n",
       "      <td>0.537539</td>\n",
       "      <td>0.253681</td>\n",
       "      <td>-0.240904</td>\n",
       "      <td>0.387512</td>\n",
       "      <td>-0.127776</td>\n",
       "      <td>-0.276481</td>\n",
       "      <td>0.713719</td>\n",
       "      <td>DERMASON</td>\n",
       "    </tr>\n",
       "  </tbody>\n",
       "</table>\n",
       "<p>13611 rows × 17 columns</p>\n",
       "</div>"
      ],
      "text/plain": [
       "              0         1         2         3         4         5         6  \\\n",
       "0     -0.840749 -1.143319 -1.306598 -0.631153 -1.565053 -2.185720 -0.841451   \n",
       "1     -0.829188 -1.013924 -1.395911 -0.434445 -1.969784 -3.686040 -0.826102   \n",
       "2     -0.807157 -1.078829 -1.252357 -0.585735 -1.514291 -2.045336 -0.808704   \n",
       "3     -0.785741 -0.977215 -1.278825 -0.439290 -1.741618 -2.742211 -0.773975   \n",
       "4     -0.781239 -1.097384 -1.380471 -0.266663 -2.117993 -4.535028 -0.784286   \n",
       "...         ...       ...       ...       ...       ...       ...       ...   \n",
       "13606 -0.373471 -0.446083 -0.366669 -0.363055 -0.123703  0.153343 -0.378191   \n",
       "13607 -0.373334 -0.456336 -0.450053 -0.257015 -0.432979 -0.165141 -0.378662   \n",
       "13608 -0.372038 -0.447833 -0.450478 -0.246456 -0.448618 -0.182940 -0.376143   \n",
       "13609 -0.371765 -0.427029 -0.428974 -0.266742 -0.380735 -0.106960 -0.372851   \n",
       "13610 -0.371356 -0.387557 -0.291736 -0.446224  0.148374  0.389116 -0.375101   \n",
       "\n",
       "              7         8         9        10        11        12        13  \\\n",
       "0     -1.063341  0.289087  0.367613  1.423867  1.839116  0.680786  2.402173   \n",
       "1     -1.044217  0.697477 -0.462907  0.231054  2.495449  0.367967  3.100893   \n",
       "2     -1.008084  0.578195  0.518417  1.252865  1.764843  0.603129  2.235091   \n",
       "3     -0.973337  0.671260 -2.241767  0.515049  2.081715  0.401718  2.515075   \n",
       "4     -0.966080  0.476020  0.804772  1.874992  2.765330  0.118268  3.270983   \n",
       "...         ...       ...       ...       ...       ...       ...       ...   \n",
       "13606 -0.364148 -0.716284  0.684173  0.727872  0.032433  0.261425  0.055630   \n",
       "13607 -0.363962  1.022933  0.774384  0.818807  0.362794  0.110384  0.285117   \n",
       "13608 -0.362197 -0.403392  0.591370  0.758468  0.370533  0.104269  0.289204   \n",
       "13609 -0.361825 -0.903414  0.143717  0.581753  0.285098  0.141906  0.228375   \n",
       "13610 -0.361268  0.799227  0.537539  0.253681 -0.240904  0.387512 -0.127776   \n",
       "\n",
       "             14        15     Class  \n",
       "0      1.925723  0.838371     SEKER  \n",
       "1      2.689702  0.771138     SEKER  \n",
       "2      1.841356  0.916755     SEKER  \n",
       "3      2.204250 -0.197985     SEKER  \n",
       "4      3.013462  0.939640     SEKER  \n",
       "...         ...       ...       ...  \n",
       "13606 -0.006086  0.760813  DERMASON  \n",
       "13607  0.328393  0.722659  DERMASON  \n",
       "13608  0.336328  0.390251  DERMASON  \n",
       "13609  0.248973  0.036440  DERMASON  \n",
       "13610 -0.276481  0.713719  DERMASON  \n",
       "\n",
       "[13611 rows x 17 columns]"
      ]
     },
     "execution_count": 9,
     "metadata": {},
     "output_type": "execute_result"
    }
   ],
   "source": [
    "df_scaled"
   ]
  },
  {
   "cell_type": "markdown",
   "id": "e54f4550",
   "metadata": {},
   "source": [
    "# CHECK FOR NULL VALUES"
   ]
  },
  {
   "cell_type": "code",
   "execution_count": 10,
   "id": "3dc4d8cb",
   "metadata": {},
   "outputs": [
    {
     "data": {
      "text/plain": [
       "Area               0\n",
       "Perimeter          0\n",
       "MajorAxisLength    0\n",
       "MinorAxisLength    0\n",
       "AspectRation       0\n",
       "Eccentricity       0\n",
       "ConvexArea         0\n",
       "EquivDiameter      0\n",
       "Extent             0\n",
       "Solidity           0\n",
       "roundness          0\n",
       "Compactness        0\n",
       "ShapeFactor1       0\n",
       "ShapeFactor2       0\n",
       "ShapeFactor3       0\n",
       "ShapeFactor4       0\n",
       "Class              0\n",
       "dtype: int64"
      ]
     },
     "execution_count": 10,
     "metadata": {},
     "output_type": "execute_result"
    }
   ],
   "source": [
    "df.isnull().sum()"
   ]
  },
  {
   "cell_type": "markdown",
   "id": "442e4fd0",
   "metadata": {},
   "source": [
    "# TRAIN-TEST SPLIT"
   ]
  },
  {
   "cell_type": "code",
   "execution_count": 11,
   "id": "50a9bde6",
   "metadata": {},
   "outputs": [],
   "source": [
    "from sklearn.model_selection import train_test_split\n",
    "X_train,X_test,y_train,y_test = train_test_split(X_scaled,y,test_size=0.2,random_state=42)"
   ]
  },
  {
   "cell_type": "markdown",
   "id": "45ce4d11",
   "metadata": {},
   "source": [
    "# K-FOLD IMPLEMENTATION"
   ]
  },
  {
   "cell_type": "code",
   "execution_count": 22,
   "id": "1cb0f06a",
   "metadata": {},
   "outputs": [],
   "source": [
    "class kFold:\n",
    "    \n",
    "    def __init__(self):\n",
    "        pass\n",
    "    \n",
    "    def Split(self, dataset,Folds):\n",
    "        dataSplit = list()\n",
    "        dataCopy = dataset\n",
    "        foldSize = int(dataCopy.shape[0] / Folds)\n",
    "        for _ in range(Folds):\n",
    "            fold = list()\n",
    "            while len(fold) < foldSize:\n",
    "                r=randrange(dataCopy.shape[0])\n",
    "                index = dataCopy.index[r]\n",
    "                fold.append(dataCopy.loc[index].values.tolist())\n",
    "                dataCopy=dataCopy.drop(index)\n",
    "            dataSplit.append(np.array(fold))    \n",
    "        return dataSplit\n",
    "    \n",
    "    \n",
    "    def crossvalscore(self, dataset, Folds, mod ,*args):\n",
    "        model = mod\n",
    "        data = self.Split(dataset,Folds)\n",
    "        scores = []\n",
    "        acc_scr= []\n",
    "        for i in range(Folds):\n",
    "            r = list(range(Folds))\n",
    "            r.pop(i)\n",
    "            for j in r :\n",
    "                if j == r[0]:\n",
    "                    file = data[j]\n",
    "                else:    \n",
    "                    file=np.concatenate((file,data[j]), axis=0)\n",
    "            model.fit(file[:,:-1],file[:,-1])\n",
    "            predicted = model.predict(data[i][:,:-1])\n",
    "            actual=data[i][:,-1]\n",
    "            scores.append((accuracy_score(actual, predicted)*100))\n",
    "                 \n",
    "        print('KFold-Scores: %s' % scores)\n",
    "        print('\\nMean Accuracy: %.3f%%' % ((sum(scores)/float(len(scores)))))\n",
    "        print('\\n %s' % classification_report(actual, predicted))\n",
    "    \n",
    "\n"
   ]
  },
  {
   "cell_type": "markdown",
   "id": "ae70e70d",
   "metadata": {},
   "source": [
    "# 1.DECISION TREE CLASSIFIER"
   ]
  },
  {
   "cell_type": "code",
   "execution_count": 23,
   "id": "05b46f56",
   "metadata": {},
   "outputs": [
    {
     "name": "stdout",
     "output_type": "stream",
     "text": [
      "Fitting 10 folds for each of 10 candidates, totalling 100 fits\n"
     ]
    },
    {
     "data": {
      "text/plain": [
       "RandomizedSearchCV(cv=10, estimator=DecisionTreeClassifier(random_state=42),\n",
       "                   n_jobs=-1,\n",
       "                   param_distributions={'criterion': ['gini', 'entropy'],\n",
       "                                        'max_depth': [2, 3, 4, 5, 6, 7, 8, 9,\n",
       "                                                      10, 11],\n",
       "                                        'max_leaf_nodes': [2, 3, 4, 5, 6, 7, 8,\n",
       "                                                           9, 10, 11, 12, 13,\n",
       "                                                           14, 15, 16, 17, 18,\n",
       "                                                           19, 20, 21, 22, 23,\n",
       "                                                           24, 25, 26, 27, 28,\n",
       "                                                           29, 30, 31, ...],\n",
       "                                        'min_samples_split': [2, 3, 4, 5, 6, 7,\n",
       "                                                              8, 9]},\n",
       "                   random_state=42, verbose=1)"
      ]
     },
     "execution_count": 23,
     "metadata": {},
     "output_type": "execute_result"
    }
   ],
   "source": [
    "from sklearn.tree import DecisionTreeClassifier\n",
    "\n",
    "params_DT = {'criterion' : ['gini', 'entropy'],\n",
    "             'max_leaf_nodes': list(range(2, 100)) , \n",
    "             'min_samples_split': list(range(2, 10)), \n",
    "             'max_depth': list(range(2, 12))}\n",
    "DT_cv = RandomizedSearchCV(DecisionTreeClassifier(random_state=42), params_DT, verbose=1, cv=10, n_jobs=-1,random_state=42)\n",
    "DT_cv.fit(X_train, y_train)"
   ]
  },
  {
   "cell_type": "markdown",
   "id": "7675c7f8",
   "metadata": {},
   "source": [
    "# Best Parameters for Decision Tree"
   ]
  },
  {
   "cell_type": "code",
   "execution_count": 24,
   "id": "ab54577d",
   "metadata": {},
   "outputs": [
    {
     "name": "stdout",
     "output_type": "stream",
     "text": [
      "Best Estimator: DecisionTreeClassifier(max_depth=9, max_leaf_nodes=99, min_samples_split=3,\n",
      "                       random_state=42)\n"
     ]
    }
   ],
   "source": [
    "print('Best Estimator: %s' % DT_cv.best_estimator_)"
   ]
  },
  {
   "cell_type": "code",
   "execution_count": 25,
   "id": "d65f86ef",
   "metadata": {},
   "outputs": [],
   "source": [
    "DT=kFold()"
   ]
  },
  {
   "cell_type": "code",
   "execution_count": 26,
   "id": "a26f337e",
   "metadata": {},
   "outputs": [
    {
     "name": "stdout",
     "output_type": "stream",
     "text": [
      "KFold-Scores: [91.62380602498163, 91.6972814107274, 90.66862601028656, 89.27259368111683, 91.18295371050698, 91.10947832476121, 91.03600293901543, 90.52167523879501, 91.25642909625276, 91.6972814107274]\n",
      "\n",
      "Mean Accuracy: 91.007%\n",
      "\n",
      "               precision    recall  f1-score   support\n",
      "\n",
      "    BARBUNYA       0.96      0.86      0.91       125\n",
      "      BOMBAY       0.98      1.00      0.99        51\n",
      "        CALI       0.89      0.91      0.90       141\n",
      "    DERMASON       0.92      0.92      0.92       371\n",
      "       HOROZ       0.94      0.97      0.95       215\n",
      "       SEKER       0.94      0.94      0.94       180\n",
      "        SIRA       0.87      0.87      0.87       278\n",
      "\n",
      "    accuracy                           0.92      1361\n",
      "   macro avg       0.93      0.93      0.93      1361\n",
      "weighted avg       0.92      0.92      0.92      1361\n",
      "\n"
     ]
    }
   ],
   "source": [
    "DT.crossvalscore(df_scaled,10,DT_cv.best_estimator_)"
   ]
  },
  {
   "cell_type": "markdown",
   "id": "fdf0a512",
   "metadata": {},
   "source": [
    "# 2.RANDOM FOREST CLASSIFIER"
   ]
  },
  {
   "cell_type": "code",
   "execution_count": 41,
   "id": "41df0515",
   "metadata": {},
   "outputs": [
    {
     "name": "stdout",
     "output_type": "stream",
     "text": [
      "Fitting 10 folds for each of 10 candidates, totalling 100 fits\n"
     ]
    },
    {
     "data": {
      "text/plain": [
       "RandomizedSearchCV(cv=10,\n",
       "                   estimator=RandomForestClassifier(n_jobs=-1, random_state=42),\n",
       "                   n_jobs=-1,\n",
       "                   param_distributions={'bootstrap': [True, False],\n",
       "                                        'max_depth': [2, 4],\n",
       "                                        'max_features': ['auto', 'sqrt'],\n",
       "                                        'min_samples_leaf': [1, 2],\n",
       "                                        'min_samples_split': [2, 5],\n",
       "                                        'n_estimators': [10, 17, 25, 33, 41, 48,\n",
       "                                                         56, 64, 72, 80]},\n",
       "                   random_state=42, verbose=1)"
      ]
     },
     "execution_count": 41,
     "metadata": {},
     "output_type": "execute_result"
    }
   ],
   "source": [
    "from sklearn.ensemble import RandomForestClassifier\n",
    "\n",
    "n_estimators = [int(x) for x in np.linspace(start = 10, stop = 80, num = 10)]\n",
    "max_features = ['auto', 'sqrt']\n",
    "max_depth = [2,4]\n",
    "min_samples_split = [2, 5]\n",
    "min_samples_leaf = [1, 2]\n",
    "bootstrap = [True, False]\n",
    "params_RF = {'n_estimators': n_estimators,\n",
    "               'max_features': max_features,\n",
    "               'max_depth': max_depth,\n",
    "               'min_samples_split': min_samples_split,\n",
    "               'min_samples_leaf': min_samples_leaf,\n",
    "               'bootstrap': bootstrap}\n",
    "\n",
    "RF_cv = RandomizedSearchCV(RandomForestClassifier(random_state=42,n_jobs=-1), params_RF, verbose=1, cv=10, n_jobs=-1,random_state=42)\n",
    "RF_cv.fit(X_train, y_train)"
   ]
  },
  {
   "cell_type": "markdown",
   "id": "2934e5cb",
   "metadata": {},
   "source": [
    "# Best Parameters for Random Forest"
   ]
  },
  {
   "cell_type": "code",
   "execution_count": 30,
   "id": "e8f43d73",
   "metadata": {},
   "outputs": [
    {
     "name": "stdout",
     "output_type": "stream",
     "text": [
      "Best Estimator: RandomForestClassifier(max_depth=4, max_features='sqrt', min_samples_leaf=2,\n",
      "                       n_estimators=33, n_jobs=-1, random_state=42)\n"
     ]
    }
   ],
   "source": [
    "print('Best Estimator: %s' % RF_cv.best_estimator_)"
   ]
  },
  {
   "cell_type": "code",
   "execution_count": 31,
   "id": "ee0f7327",
   "metadata": {},
   "outputs": [],
   "source": [
    "RF=kFold()"
   ]
  },
  {
   "cell_type": "code",
   "execution_count": 32,
   "id": "ccb50790",
   "metadata": {},
   "outputs": [
    {
     "name": "stdout",
     "output_type": "stream",
     "text": [
      "KFold-Scores: [88.53783982365907, 87.80308596620132, 88.09698750918442, 87.14180749448934, 88.09698750918442, 88.53783982365907, 88.02351212343865, 89.6399706098457, 87.95003673769287, 90.52167523879501]\n",
      "\n",
      "Mean Accuracy: 88.435%\n",
      "\n",
      "               precision    recall  f1-score   support\n",
      "\n",
      "    BARBUNYA       0.83      0.69      0.76       108\n",
      "      BOMBAY       1.00      1.00      1.00        46\n",
      "        CALI       0.82      0.90      0.86       152\n",
      "    DERMASON       0.93      0.93      0.93       361\n",
      "       HOROZ       0.98      0.92      0.95       221\n",
      "       SEKER       0.96      0.94      0.95       201\n",
      "        SIRA       0.84      0.90      0.87       272\n",
      "\n",
      "    accuracy                           0.91      1361\n",
      "   macro avg       0.91      0.90      0.90      1361\n",
      "weighted avg       0.91      0.91      0.91      1361\n",
      "\n"
     ]
    }
   ],
   "source": [
    "RF.crossvalscore(df_scaled,10,RF_cv.best_estimator_)"
   ]
  },
  {
   "cell_type": "markdown",
   "id": "3306ee36",
   "metadata": {},
   "source": [
    "# 3.KNN CLASSIFIER"
   ]
  },
  {
   "cell_type": "code",
   "execution_count": 33,
   "id": "d3342c64",
   "metadata": {},
   "outputs": [
    {
     "name": "stdout",
     "output_type": "stream",
     "text": [
      "Fitting 10 folds for each of 10 candidates, totalling 100 fits\n"
     ]
    },
    {
     "data": {
      "text/plain": [
       "RandomizedSearchCV(cv=10, estimator=KNeighborsClassifier(), n_jobs=-1,\n",
       "                   param_distributions={'leaf_size': [1, 2, 3, 4, 5, 6, 7, 8, 9,\n",
       "                                                      10, 11, 12, 13, 14, 15,\n",
       "                                                      16, 17, 18, 19, 20, 21,\n",
       "                                                      22, 23, 24, 25, 26, 27,\n",
       "                                                      28, 29, 30, ...],\n",
       "                                        'n_neighbors': [1, 2, 3, 4, 5, 6, 7, 8,\n",
       "                                                        9, 10, 11, 12, 13, 14,\n",
       "                                                        15, 16, 17, 18, 19, 20,\n",
       "                                                        21, 22, 23, 24, 25, 26,\n",
       "                                                        27, 28, 29],\n",
       "                                        'p': [1, 2]},\n",
       "                   random_state=42, verbose=1)"
      ]
     },
     "execution_count": 33,
     "metadata": {},
     "output_type": "execute_result"
    }
   ],
   "source": [
    "from sklearn.neighbors import KNeighborsClassifier\n",
    "\n",
    "leaf_size = list(range(1,50))\n",
    "n_neighbors = list(range(1,30))\n",
    "p=[1,2]\n",
    "\n",
    "params_KNN = {'leaf_size':leaf_size, \n",
    "              'n_neighbors':n_neighbors, \n",
    "              'p':p}\n",
    "\n",
    "KNN_cv = RandomizedSearchCV(KNeighborsClassifier(), params_KNN, verbose=1, cv=10, n_jobs=-1,random_state=42)\n",
    "KNN_cv.fit(X_train, y_train)"
   ]
  },
  {
   "cell_type": "markdown",
   "id": "48a3b109",
   "metadata": {},
   "source": [
    "# Best Parameters for KNN"
   ]
  },
  {
   "cell_type": "code",
   "execution_count": 34,
   "id": "8dfc3f87",
   "metadata": {},
   "outputs": [
    {
     "name": "stdout",
     "output_type": "stream",
     "text": [
      "Best Estimator: KNeighborsClassifier(leaf_size=38, n_neighbors=12)\n"
     ]
    }
   ],
   "source": [
    "print('Best Estimator: %s' % KNN_cv.best_estimator_)"
   ]
  },
  {
   "cell_type": "code",
   "execution_count": 35,
   "id": "f4e12738",
   "metadata": {},
   "outputs": [],
   "source": [
    "KNN=kFold()"
   ]
  },
  {
   "cell_type": "code",
   "execution_count": 36,
   "id": "cd28b942",
   "metadata": {},
   "outputs": [
    {
     "name": "stdout",
     "output_type": "stream",
     "text": [
      "KFold-Scores: [92.87288758265981, 93.24026451138869, 92.65246142542249, 92.13813372520205, 92.21160911094783, 92.2850844966936, 92.94636296840558, 92.43203526818516, 92.65246142542249, 92.35855988243938]\n",
      "\n",
      "Mean Accuracy: 92.579%\n",
      "\n",
      "               precision    recall  f1-score   support\n",
      "\n",
      "    BARBUNYA       0.95      0.86      0.90       129\n",
      "      BOMBAY       1.00      1.00      1.00        56\n",
      "        CALI       0.87      0.95      0.91       157\n",
      "    DERMASON       0.92      0.95      0.93       358\n",
      "       HOROZ       0.96      0.90      0.93       204\n",
      "       SEKER       0.97      0.95      0.96       197\n",
      "        SIRA       0.87      0.88      0.88       260\n",
      "\n",
      "    accuracy                           0.92      1361\n",
      "   macro avg       0.93      0.93      0.93      1361\n",
      "weighted avg       0.92      0.92      0.92      1361\n",
      "\n"
     ]
    }
   ],
   "source": [
    "KNN.crossvalscore(df_scaled,10,KNN_cv.best_estimator_)"
   ]
  },
  {
   "cell_type": "markdown",
   "id": "fb74da0f",
   "metadata": {},
   "source": [
    "# 4. NAIVE BAYES CLASSIFIER"
   ]
  },
  {
   "cell_type": "code",
   "execution_count": 37,
   "id": "96704942",
   "metadata": {},
   "outputs": [
    {
     "name": "stdout",
     "output_type": "stream",
     "text": [
      "Fitting 10 folds for each of 10 candidates, totalling 100 fits\n"
     ]
    },
    {
     "data": {
      "text/plain": [
       "RandomizedSearchCV(cv=10, estimator=GaussianNB(), n_jobs=-1,\n",
       "                   param_distributions={'var_smoothing': array([1.00000000e+00, 8.11130831e-01, 6.57933225e-01, 5.33669923e-01,\n",
       "       4.32876128e-01, 3.51119173e-01, 2.84803587e-01, 2.31012970e-01,\n",
       "       1.87381742e-01, 1.51991108e-01, 1.23284674e-01, 1.00000000e-01,\n",
       "       8.11130831e-02, 6.57933225e-02, 5.33669923e-02, 4.32876128e-02,\n",
       "       3.511191...\n",
       "       1.23284674e-07, 1.00000000e-07, 8.11130831e-08, 6.57933225e-08,\n",
       "       5.33669923e-08, 4.32876128e-08, 3.51119173e-08, 2.84803587e-08,\n",
       "       2.31012970e-08, 1.87381742e-08, 1.51991108e-08, 1.23284674e-08,\n",
       "       1.00000000e-08, 8.11130831e-09, 6.57933225e-09, 5.33669923e-09,\n",
       "       4.32876128e-09, 3.51119173e-09, 2.84803587e-09, 2.31012970e-09,\n",
       "       1.87381742e-09, 1.51991108e-09, 1.23284674e-09, 1.00000000e-09])},\n",
       "                   random_state=42, verbose=1)"
      ]
     },
     "execution_count": 37,
     "metadata": {},
     "output_type": "execute_result"
    }
   ],
   "source": [
    "from sklearn.naive_bayes import GaussianNB\n",
    "\n",
    "params_NB = {'var_smoothing': np.logspace(0,-9, num=100)}\n",
    "NB_cv = RandomizedSearchCV(GaussianNB(), params_NB, cv=10,verbose=1,n_jobs=-1,random_state=42)\n",
    "NB_cv.fit(X_train , y_train)"
   ]
  },
  {
   "cell_type": "markdown",
   "id": "f3cfd5d0",
   "metadata": {},
   "source": [
    "# Best Parameters for Naive Bayes"
   ]
  },
  {
   "cell_type": "code",
   "execution_count": 38,
   "id": "931f4b1e",
   "metadata": {},
   "outputs": [
    {
     "name": "stdout",
     "output_type": "stream",
     "text": [
      "Best Estimator: GaussianNB(var_smoothing=0.0002848035868435802)\n"
     ]
    }
   ],
   "source": [
    "print('Best Estimator: %s' % NB_cv.best_estimator_)"
   ]
  },
  {
   "cell_type": "code",
   "execution_count": 39,
   "id": "7064e593",
   "metadata": {},
   "outputs": [],
   "source": [
    "NB=kFold()"
   ]
  },
  {
   "cell_type": "code",
   "execution_count": 40,
   "id": "14a79ebe",
   "metadata": {},
   "outputs": [
    {
     "name": "stdout",
     "output_type": "stream",
     "text": [
      "KFold-Scores: [88.90521675238794, 89.86039676708303, 88.31741366642176, 88.53783982365907, 90.30124908155767, 90.30124908155767, 91.03600293901543, 90.66862601028656, 89.12564290962528, 90.52167523879501]\n",
      "\n",
      "Mean Accuracy: 89.758%\n",
      "\n",
      "               precision    recall  f1-score   support\n",
      "\n",
      "    BARBUNYA       0.91      0.87      0.89       137\n",
      "      BOMBAY       1.00      1.00      1.00        51\n",
      "        CALI       0.87      0.91      0.89       158\n",
      "    DERMASON       0.91      0.90      0.90       359\n",
      "       HOROZ       0.93      0.95      0.94       182\n",
      "       SEKER       0.94      0.96      0.95       215\n",
      "        SIRA       0.85      0.83      0.84       259\n",
      "\n",
      "    accuracy                           0.91      1361\n",
      "   macro avg       0.92      0.92      0.92      1361\n",
      "weighted avg       0.90      0.91      0.90      1361\n",
      "\n"
     ]
    }
   ],
   "source": [
    "NB.crossvalscore(df_scaled,10,NB_cv.best_estimator_)"
   ]
  },
  {
   "cell_type": "code",
   "execution_count": null,
   "id": "5acd205f",
   "metadata": {},
   "outputs": [],
   "source": []
  },
  {
   "cell_type": "code",
   "execution_count": null,
   "id": "7cdd3235",
   "metadata": {},
   "outputs": [],
   "source": []
  },
  {
   "cell_type": "code",
   "execution_count": null,
   "id": "42df705a",
   "metadata": {},
   "outputs": [],
   "source": []
  },
  {
   "cell_type": "code",
   "execution_count": null,
   "id": "7324b73b",
   "metadata": {},
   "outputs": [],
   "source": []
  },
  {
   "cell_type": "code",
   "execution_count": null,
   "id": "c8d81468",
   "metadata": {},
   "outputs": [],
   "source": []
  },
  {
   "cell_type": "code",
   "execution_count": null,
   "id": "edeb1942",
   "metadata": {},
   "outputs": [],
   "source": []
  },
  {
   "cell_type": "code",
   "execution_count": null,
   "id": "3cd9968e",
   "metadata": {},
   "outputs": [],
   "source": []
  },
  {
   "cell_type": "code",
   "execution_count": null,
   "id": "cd3c0cf4",
   "metadata": {},
   "outputs": [],
   "source": []
  },
  {
   "cell_type": "code",
   "execution_count": null,
   "id": "d8fa8e2c",
   "metadata": {},
   "outputs": [],
   "source": []
  },
  {
   "cell_type": "code",
   "execution_count": null,
   "id": "63ab7179",
   "metadata": {},
   "outputs": [],
   "source": []
  },
  {
   "cell_type": "code",
   "execution_count": null,
   "id": "cacf5673",
   "metadata": {},
   "outputs": [],
   "source": []
  },
  {
   "cell_type": "code",
   "execution_count": null,
   "id": "d6a9569d",
   "metadata": {},
   "outputs": [],
   "source": []
  },
  {
   "cell_type": "code",
   "execution_count": null,
   "id": "becdd7bc",
   "metadata": {},
   "outputs": [],
   "source": []
  },
  {
   "cell_type": "code",
   "execution_count": null,
   "id": "c8c24738",
   "metadata": {},
   "outputs": [],
   "source": []
  },
  {
   "cell_type": "code",
   "execution_count": null,
   "id": "f5cb7dd3",
   "metadata": {},
   "outputs": [],
   "source": []
  },
  {
   "cell_type": "code",
   "execution_count": null,
   "id": "16435ef0",
   "metadata": {},
   "outputs": [],
   "source": []
  }
 ],
 "metadata": {
  "kernelspec": {
   "display_name": "Python 3",
   "language": "python",
   "name": "python3"
  },
  "language_info": {
   "codemirror_mode": {
    "name": "ipython",
    "version": 3
   },
   "file_extension": ".py",
   "mimetype": "text/x-python",
   "name": "python",
   "nbconvert_exporter": "python",
   "pygments_lexer": "ipython3",
   "version": "3.8.8"
  }
 },
 "nbformat": 4,
 "nbformat_minor": 5
}
